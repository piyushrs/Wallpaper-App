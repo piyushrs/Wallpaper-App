{
 "cells": [
  {
   "cell_type": "code",
   "execution_count": 28,
   "metadata": {},
   "outputs": [],
   "source": [
    "import urllib.request\n",
    "import requests\n",
    "import os\n",
    "from  pprint import pprint\n",
    "from dotenv import load_dotenv\n",
    "from PIL import Image\n",
    "import ctypes"
   ]
  },
  {
   "cell_type": "code",
   "execution_count": 4,
   "metadata": {},
   "outputs": [],
   "source": [
    "load_dotenv()\n",
    "api_key = os.getenv(\"ACCESS_KEY\")\n",
    "api_secret = os.getenv(\"SECRET_KEY\")"
   ]
  },
  {
   "cell_type": "code",
   "execution_count": 15,
   "metadata": {},
   "outputs": [],
   "source": [
    "orientation = \"landscape\"\n",
    "count = 1"
   ]
  },
  {
   "cell_type": "code",
   "execution_count": 29,
   "metadata": {},
   "outputs": [],
   "source": [
    "res = requests.get(f\"https://api.unsplash.com/photos/random/?orientation={orientation}&client_id={api_key}&count={count}\").json()"
   ]
  },
  {
   "cell_type": "code",
   "execution_count": 27,
   "metadata": {},
   "outputs": [
    {
     "name": "stdout",
     "output_type": "stream",
     "text": [
      "{   'alt_description': 'a group of people walking along a beach next to the '\n",
      "                       'ocean',\n",
      "    'blur_hash': 'LMPGpQE0ImR*?]Nas.WV01a#WDof',\n",
      "    'breadcrumbs': [],\n",
      "    'color': '#f3f3d9',\n",
      "    'created_at': '2023-11-25T10:43:31Z',\n",
      "    'current_user_collections': [],\n",
      "    'description': None,\n",
      "    'downloads': 6346,\n",
      "    'exif': {   'aperture': None,\n",
      "                'exposure_time': None,\n",
      "                'focal_length': None,\n",
      "                'iso': None,\n",
      "                'make': None,\n",
      "                'model': None,\n",
      "                'name': None},\n",
      "    'height': 3069,\n",
      "    'id': 'qQNq9HFLgAQ',\n",
      "    'liked_by_user': False,\n",
      "    'likes': 30,\n",
      "    'links': {   'download': 'https://unsplash.com/photos/qQNq9HFLgAQ/download?ixid=M3wyNjY5NDJ8MHwxfHJhbmRvbXx8fHx8fHx8fDE3MDM2NDk1ODZ8',\n",
      "                 'download_location': 'https://api.unsplash.com/photos/qQNq9HFLgAQ/download?ixid=M3wyNjY5NDJ8MHwxfHJhbmRvbXx8fHx8fHx8fDE3MDM2NDk1ODZ8',\n",
      "                 'html': 'https://unsplash.com/photos/a-group-of-people-walking-along-a-beach-next-to-the-ocean-qQNq9HFLgAQ',\n",
      "                 'self': 'https://api.unsplash.com/photos/a-group-of-people-walking-along-a-beach-next-to-the-ocean-qQNq9HFLgAQ'},\n",
      "    'location': {   'city': None,\n",
      "                    'country': None,\n",
      "                    'name': None,\n",
      "                    'position': {'latitude': 0.0, 'longitude': 0.0}},\n",
      "    'promoted_at': '2023-11-29T09:24:01Z',\n",
      "    'slug': 'a-group-of-people-walking-along-a-beach-next-to-the-ocean-qQNq9HFLgAQ',\n",
      "    'sponsorship': None,\n",
      "    'topic_submissions': {   'film': {   'approved_on': '2023-11-25T10:44:06Z',\n",
      "                                         'status': 'approved'}},\n",
      "    'updated_at': '2023-12-26T11:47:31Z',\n",
      "    'urls': {   'full': 'https://images.unsplash.com/photo-1700908608822-4dcbcb88bef4?crop=entropy&cs=srgb&fm=jpg&ixid=M3wyNjY5NDJ8MHwxfHJhbmRvbXx8fHx8fHx8fDE3MDM2NDk1ODZ8&ixlib=rb-4.0.3&q=85',\n",
      "                'raw': 'https://images.unsplash.com/photo-1700908608822-4dcbcb88bef4?ixid=M3wyNjY5NDJ8MHwxfHJhbmRvbXx8fHx8fHx8fDE3MDM2NDk1ODZ8&ixlib=rb-4.0.3',\n",
      "                'regular': 'https://images.unsplash.com/photo-1700908608822-4dcbcb88bef4?crop=entropy&cs=tinysrgb&fit=max&fm=jpg&ixid=M3wyNjY5NDJ8MHwxfHJhbmRvbXx8fHx8fHx8fDE3MDM2NDk1ODZ8&ixlib=rb-4.0.3&q=80&w=1080',\n",
      "                'small': 'https://images.unsplash.com/photo-1700908608822-4dcbcb88bef4?crop=entropy&cs=tinysrgb&fit=max&fm=jpg&ixid=M3wyNjY5NDJ8MHwxfHJhbmRvbXx8fHx8fHx8fDE3MDM2NDk1ODZ8&ixlib=rb-4.0.3&q=80&w=400',\n",
      "                'small_s3': 'https://s3.us-west-2.amazonaws.com/images.unsplash.com/small/photo-1700908608822-4dcbcb88bef4',\n",
      "                'thumb': 'https://images.unsplash.com/photo-1700908608822-4dcbcb88bef4?crop=entropy&cs=tinysrgb&fit=max&fm=jpg&ixid=M3wyNjY5NDJ8MHwxfHJhbmRvbXx8fHx8fHx8fDE3MDM2NDk1ODZ8&ixlib=rb-4.0.3&q=80&w=200'},\n",
      "    'user': {   'accepted_tos': True,\n",
      "                'bio': 'Photographer from England, sharing my digital, film + '\n",
      "                       'vintage slide scans.  \\r\\n',\n",
      "                'first_name': 'Annie',\n",
      "                'for_hire': False,\n",
      "                'id': 'IFcEhJqem0Q',\n",
      "                'instagram_username': 'anniespratt',\n",
      "                'last_name': 'Spratt',\n",
      "                'links': {   'followers': 'https://api.unsplash.com/users/anniespratt/followers',\n",
      "                             'following': 'https://api.unsplash.com/users/anniespratt/following',\n",
      "                             'html': 'https://unsplash.com/@anniespratt',\n",
      "                             'likes': 'https://api.unsplash.com/users/anniespratt/likes',\n",
      "                             'photos': 'https://api.unsplash.com/users/anniespratt/photos',\n",
      "                             'portfolio': 'https://api.unsplash.com/users/anniespratt/portfolio',\n",
      "                             'self': 'https://api.unsplash.com/users/anniespratt'},\n",
      "                'location': 'New Forest National Park, UK',\n",
      "                'name': 'Annie Spratt',\n",
      "                'portfolio_url': 'https://www.anniespratt.com',\n",
      "                'profile_image': {   'large': 'https://images.unsplash.com/profile-1648828806223-1852f704c58aimage?ixlib=rb-4.0.3&crop=faces&fit=crop&w=128&h=128',\n",
      "                                     'medium': 'https://images.unsplash.com/profile-1648828806223-1852f704c58aimage?ixlib=rb-4.0.3&crop=faces&fit=crop&w=64&h=64',\n",
      "                                     'small': 'https://images.unsplash.com/profile-1648828806223-1852f704c58aimage?ixlib=rb-4.0.3&crop=faces&fit=crop&w=32&h=32'},\n",
      "                'social': {   'instagram_username': 'anniespratt',\n",
      "                              'paypal_email': None,\n",
      "                              'portfolio_url': 'https://www.anniespratt.com',\n",
      "                              'twitter_username': 'anniespratt'},\n",
      "                'total_collections': 51,\n",
      "                'total_likes': 14462,\n",
      "                'total_photos': 20121,\n",
      "                'total_promoted_photos': 2948,\n",
      "                'twitter_username': 'anniespratt',\n",
      "                'updated_at': '2023-12-26T17:59:47Z',\n",
      "                'username': 'anniespratt'},\n",
      "    'views': 399899,\n",
      "    'width': 4551}\n"
     ]
    }
   ],
   "source": [
    "pprint(res[0], indent= 4, depth= 3)"
   ]
  },
  {
   "cell_type": "code",
   "execution_count": 30,
   "metadata": {},
   "outputs": [
    {
     "data": {
      "text/plain": [
       "('wallpaper.png', <http.client.HTTPMessage at 0x2958a693410>)"
      ]
     },
     "execution_count": 30,
     "metadata": {},
     "output_type": "execute_result"
    }
   ],
   "source": [
    "wallpaper_url = res[0][\"links\"][\"download\"]\n",
    "# wallpaper_url\n",
    "urllib.request.urlretrieve(wallpaper_url, \"wallpaper.png\")"
   ]
  },
  {
   "cell_type": "code",
   "execution_count": 31,
   "metadata": {},
   "outputs": [],
   "source": [
    "img = Image.open(r\"wallpaper.png\")\n",
    "img.show()"
   ]
  },
  {
   "cell_type": "code",
   "execution_count": 33,
   "metadata": {},
   "outputs": [
    {
     "data": {
      "text/plain": [
       "1"
      ]
     },
     "execution_count": 33,
     "metadata": {},
     "output_type": "execute_result"
    }
   ],
   "source": [
    "ctypes.windll.user32.SystemParametersInfoW(20, 0, \"D:\\OneDrive\\Practice\\Wallpaper App\\wallpaper.png\" , 0)"
   ]
  }
 ],
 "metadata": {
  "kernelspec": {
   "display_name": "Python 3",
   "language": "python",
   "name": "python3"
  },
  "language_info": {
   "codemirror_mode": {
    "name": "ipython",
    "version": 3
   },
   "file_extension": ".py",
   "mimetype": "text/x-python",
   "name": "python",
   "nbconvert_exporter": "python",
   "pygments_lexer": "ipython3",
   "version": "3.11.2"
  }
 },
 "nbformat": 4,
 "nbformat_minor": 2
}
